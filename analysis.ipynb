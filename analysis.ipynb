{
 "cells": [
  {
   "cell_type": "code",
   "execution_count": 3,
   "id": "f4e1c781",
   "metadata": {},
   "outputs": [],
   "source": [
    "import pandas as pd\n",
    "import numpy as np\n",
    "import matplotlib.pyplot as plt\n",
    "import seaborn as sns"
   ]
  },
  {
   "cell_type": "markdown",
   "id": "5131fe29",
   "metadata": {},
   "source": [
    "Loading fear_gree_index.csv data file"
   ]
  },
  {
   "cell_type": "code",
   "execution_count": 4,
   "id": "92d1390d",
   "metadata": {},
   "outputs": [
    {
     "data": {
      "text/html": [
       "<div>\n",
       "<style scoped>\n",
       "    .dataframe tbody tr th:only-of-type {\n",
       "        vertical-align: middle;\n",
       "    }\n",
       "\n",
       "    .dataframe tbody tr th {\n",
       "        vertical-align: top;\n",
       "    }\n",
       "\n",
       "    .dataframe thead th {\n",
       "        text-align: right;\n",
       "    }\n",
       "</style>\n",
       "<table border=\"1\" class=\"dataframe\">\n",
       "  <thead>\n",
       "    <tr style=\"text-align: right;\">\n",
       "      <th></th>\n",
       "      <th>timestamp</th>\n",
       "      <th>value</th>\n",
       "      <th>classification</th>\n",
       "      <th>date</th>\n",
       "    </tr>\n",
       "  </thead>\n",
       "  <tbody>\n",
       "    <tr>\n",
       "      <th>1885</th>\n",
       "      <td>1680586200</td>\n",
       "      <td>62</td>\n",
       "      <td>Greed</td>\n",
       "      <td>2023-04-04</td>\n",
       "    </tr>\n",
       "    <tr>\n",
       "      <th>2049</th>\n",
       "      <td>1694755800</td>\n",
       "      <td>45</td>\n",
       "      <td>Neutral</td>\n",
       "      <td>2023-09-15</td>\n",
       "    </tr>\n",
       "    <tr>\n",
       "      <th>513</th>\n",
       "      <td>1562045400</td>\n",
       "      <td>63</td>\n",
       "      <td>Greed</td>\n",
       "      <td>2019-07-02</td>\n",
       "    </tr>\n",
       "    <tr>\n",
       "      <th>902</th>\n",
       "      <td>1595655000</td>\n",
       "      <td>55</td>\n",
       "      <td>Greed</td>\n",
       "      <td>2020-07-25</td>\n",
       "    </tr>\n",
       "    <tr>\n",
       "      <th>1562</th>\n",
       "      <td>1652679000</td>\n",
       "      <td>14</td>\n",
       "      <td>Extreme Fear</td>\n",
       "      <td>2022-05-16</td>\n",
       "    </tr>\n",
       "  </tbody>\n",
       "</table>\n",
       "</div>"
      ],
      "text/plain": [
       "       timestamp  value classification        date\n",
       "1885  1680586200     62          Greed  2023-04-04\n",
       "2049  1694755800     45        Neutral  2023-09-15\n",
       "513   1562045400     63          Greed  2019-07-02\n",
       "902   1595655000     55          Greed  2020-07-25\n",
       "1562  1652679000     14   Extreme Fear  2022-05-16"
      ]
     },
     "execution_count": 4,
     "metadata": {},
     "output_type": "execute_result"
    }
   ],
   "source": [
    "df_fear_greed=pd.read_csv('csv_files/fear_greed_index.csv')\n",
    "df_fear_greed.sample(5)"
   ]
  },
  {
   "cell_type": "code",
   "execution_count": 5,
   "id": "b9998c80",
   "metadata": {},
   "outputs": [
    {
     "name": "stdout",
     "output_type": "stream",
     "text": [
      "<class 'pandas.core.frame.DataFrame'>\n",
      "RangeIndex: 2644 entries, 0 to 2643\n",
      "Data columns (total 4 columns):\n",
      " #   Column          Non-Null Count  Dtype \n",
      "---  ------          --------------  ----- \n",
      " 0   timestamp       2644 non-null   int64 \n",
      " 1   value           2644 non-null   int64 \n",
      " 2   classification  2644 non-null   object\n",
      " 3   date            2644 non-null   object\n",
      "dtypes: int64(2), object(2)\n",
      "memory usage: 82.8+ KB\n"
     ]
    }
   ],
   "source": [
    "df_fear_greed.info()"
   ]
  },
  {
   "cell_type": "code",
   "execution_count": 6,
   "id": "c4ffc3cb",
   "metadata": {},
   "outputs": [],
   "source": [
    "# Converting Fear-Greed 'date' column to datetime\n",
    "df_fear_greed['date'] = pd.to_datetime(df_fear_greed['date'])"
   ]
  },
  {
   "cell_type": "code",
   "execution_count": 7,
   "id": "4a947077",
   "metadata": {},
   "outputs": [
    {
     "data": {
      "text/html": [
       "<div>\n",
       "<style scoped>\n",
       "    .dataframe tbody tr th:only-of-type {\n",
       "        vertical-align: middle;\n",
       "    }\n",
       "\n",
       "    .dataframe tbody tr th {\n",
       "        vertical-align: top;\n",
       "    }\n",
       "\n",
       "    .dataframe thead th {\n",
       "        text-align: right;\n",
       "    }\n",
       "</style>\n",
       "<table border=\"1\" class=\"dataframe\">\n",
       "  <thead>\n",
       "    <tr style=\"text-align: right;\">\n",
       "      <th></th>\n",
       "      <th>timestamp</th>\n",
       "      <th>value</th>\n",
       "      <th>classification</th>\n",
       "      <th>date</th>\n",
       "    </tr>\n",
       "  </thead>\n",
       "  <tbody>\n",
       "    <tr>\n",
       "      <th>123</th>\n",
       "      <td>1528349400</td>\n",
       "      <td>38</td>\n",
       "      <td>Fear</td>\n",
       "      <td>2018-06-07</td>\n",
       "    </tr>\n",
       "    <tr>\n",
       "      <th>401</th>\n",
       "      <td>1552368600</td>\n",
       "      <td>56</td>\n",
       "      <td>Greed</td>\n",
       "      <td>2019-03-12</td>\n",
       "    </tr>\n",
       "    <tr>\n",
       "      <th>138</th>\n",
       "      <td>1529645400</td>\n",
       "      <td>28</td>\n",
       "      <td>Fear</td>\n",
       "      <td>2018-06-22</td>\n",
       "    </tr>\n",
       "    <tr>\n",
       "      <th>405</th>\n",
       "      <td>1552714200</td>\n",
       "      <td>54</td>\n",
       "      <td>Neutral</td>\n",
       "      <td>2019-03-16</td>\n",
       "    </tr>\n",
       "    <tr>\n",
       "      <th>145</th>\n",
       "      <td>1530250200</td>\n",
       "      <td>16</td>\n",
       "      <td>Extreme Fear</td>\n",
       "      <td>2018-06-29</td>\n",
       "    </tr>\n",
       "  </tbody>\n",
       "</table>\n",
       "</div>"
      ],
      "text/plain": [
       "      timestamp  value classification       date\n",
       "123  1528349400     38           Fear 2018-06-07\n",
       "401  1552368600     56          Greed 2019-03-12\n",
       "138  1529645400     28           Fear 2018-06-22\n",
       "405  1552714200     54        Neutral 2019-03-16\n",
       "145  1530250200     16   Extreme Fear 2018-06-29"
      ]
     },
     "execution_count": 7,
     "metadata": {},
     "output_type": "execute_result"
    }
   ],
   "source": [
    "df_fear_greed.sample(5)"
   ]
  },
  {
   "cell_type": "code",
   "execution_count": 8,
   "id": "2d372d82",
   "metadata": {},
   "outputs": [
    {
     "data": {
      "text/plain": [
       "timestamp         0\n",
       "value             0\n",
       "classification    0\n",
       "date              0\n",
       "dtype: int64"
      ]
     },
     "execution_count": 8,
     "metadata": {},
     "output_type": "execute_result"
    }
   ],
   "source": [
    "df_fear_greed.isna().sum()"
   ]
  },
  {
   "cell_type": "markdown",
   "id": "23f07db2",
   "metadata": {},
   "source": [
    "Loading historical_data.csv data file"
   ]
  },
  {
   "cell_type": "code",
   "execution_count": 9,
   "id": "565fe320",
   "metadata": {},
   "outputs": [
    {
     "data": {
      "text/html": [
       "<div>\n",
       "<style scoped>\n",
       "    .dataframe tbody tr th:only-of-type {\n",
       "        vertical-align: middle;\n",
       "    }\n",
       "\n",
       "    .dataframe tbody tr th {\n",
       "        vertical-align: top;\n",
       "    }\n",
       "\n",
       "    .dataframe thead th {\n",
       "        text-align: right;\n",
       "    }\n",
       "</style>\n",
       "<table border=\"1\" class=\"dataframe\">\n",
       "  <thead>\n",
       "    <tr style=\"text-align: right;\">\n",
       "      <th></th>\n",
       "      <th>Account</th>\n",
       "      <th>Coin</th>\n",
       "      <th>Execution Price</th>\n",
       "      <th>Size Tokens</th>\n",
       "      <th>Size USD</th>\n",
       "      <th>Side</th>\n",
       "      <th>Timestamp IST</th>\n",
       "      <th>Start Position</th>\n",
       "      <th>Direction</th>\n",
       "      <th>Closed PnL</th>\n",
       "      <th>Transaction Hash</th>\n",
       "      <th>Order ID</th>\n",
       "      <th>Crossed</th>\n",
       "      <th>Fee</th>\n",
       "      <th>Trade ID</th>\n",
       "      <th>Timestamp</th>\n",
       "    </tr>\n",
       "  </thead>\n",
       "  <tbody>\n",
       "    <tr>\n",
       "      <th>44100</th>\n",
       "      <td>0xb1231a4a2dd02f2276fa3c5e2a2f3436e6bfed23</td>\n",
       "      <td>@14</td>\n",
       "      <td>0.000879</td>\n",
       "      <td>69420.00000</td>\n",
       "      <td>61.03</td>\n",
       "      <td>BUY</td>\n",
       "      <td>06-07-2024 00:49</td>\n",
       "      <td>912187.62980</td>\n",
       "      <td>Buy</td>\n",
       "      <td>0.000000</td>\n",
       "      <td>0xed99d1d37f0b7c8a5c9d040ce286fb01a100faef8076...</td>\n",
       "      <td>28652822332</td>\n",
       "      <td>True</td>\n",
       "      <td>24.296220</td>\n",
       "      <td>6.360000e+14</td>\n",
       "      <td>1.720000e+12</td>\n",
       "    </tr>\n",
       "    <tr>\n",
       "      <th>105070</th>\n",
       "      <td>0x8477e447846c758f5a675856001ea72298fd9cb5</td>\n",
       "      <td>APE</td>\n",
       "      <td>1.146400</td>\n",
       "      <td>484.10000</td>\n",
       "      <td>554.97</td>\n",
       "      <td>SELL</td>\n",
       "      <td>21-11-2024 14:22</td>\n",
       "      <td>0.00000</td>\n",
       "      <td>Open Short</td>\n",
       "      <td>0.000000</td>\n",
       "      <td>0xba9a8c70ef46a8cf7b8304175624640201490045be55...</td>\n",
       "      <td>48955113464</td>\n",
       "      <td>True</td>\n",
       "      <td>0.194240</td>\n",
       "      <td>7.090000e+14</td>\n",
       "      <td>1.730000e+12</td>\n",
       "    </tr>\n",
       "    <tr>\n",
       "      <th>141427</th>\n",
       "      <td>0x28736f43f1e871e6aa8b1148d38d4994275d72c4</td>\n",
       "      <td>FARTCOIN</td>\n",
       "      <td>0.503380</td>\n",
       "      <td>1016.50000</td>\n",
       "      <td>511.69</td>\n",
       "      <td>SELL</td>\n",
       "      <td>05-04-2025 15:25</td>\n",
       "      <td>1016.60000</td>\n",
       "      <td>Close Long</td>\n",
       "      <td>2.276960</td>\n",
       "      <td>0xab0953c50bbcee42b4550420f21a6102012300534d8a...</td>\n",
       "      <td>84096501122</td>\n",
       "      <td>False</td>\n",
       "      <td>0.051168</td>\n",
       "      <td>6.310000e+14</td>\n",
       "      <td>1.740000e+12</td>\n",
       "    </tr>\n",
       "    <tr>\n",
       "      <th>33194</th>\n",
       "      <td>0x75f7eeb85dc639d5e99c78f95393aa9a5f1170d4</td>\n",
       "      <td>FARTCOIN</td>\n",
       "      <td>0.775820</td>\n",
       "      <td>276.20000</td>\n",
       "      <td>214.28</td>\n",
       "      <td>SELL</td>\n",
       "      <td>13-01-2025 08:19</td>\n",
       "      <td>2909.60000</td>\n",
       "      <td>Close Long</td>\n",
       "      <td>5.449426</td>\n",
       "      <td>0xe66ebcebd519c3e5b517041b55225b01ed0078f00d01...</td>\n",
       "      <td>62549406956</td>\n",
       "      <td>False</td>\n",
       "      <td>0.020570</td>\n",
       "      <td>1.410000e+14</td>\n",
       "      <td>1.740000e+12</td>\n",
       "    </tr>\n",
       "    <tr>\n",
       "      <th>26619</th>\n",
       "      <td>0x4f93fead39b70a1824f981a54d4e55b278e9f760</td>\n",
       "      <td>BTC</td>\n",
       "      <td>105192.000000</td>\n",
       "      <td>0.00985</td>\n",
       "      <td>1036.14</td>\n",
       "      <td>BUY</td>\n",
       "      <td>25-01-2025 02:03</td>\n",
       "      <td>1.43808</td>\n",
       "      <td>Open Long</td>\n",
       "      <td>0.000000</td>\n",
       "      <td>0x4935d45c3287e221caab041c60c14c02015f00420de3...</td>\n",
       "      <td>66314520674</td>\n",
       "      <td>True</td>\n",
       "      <td>0.259035</td>\n",
       "      <td>6.780000e+14</td>\n",
       "      <td>1.740000e+12</td>\n",
       "    </tr>\n",
       "  </tbody>\n",
       "</table>\n",
       "</div>"
      ],
      "text/plain": [
       "                                           Account      Coin  Execution Price  \\\n",
       "44100   0xb1231a4a2dd02f2276fa3c5e2a2f3436e6bfed23       @14         0.000879   \n",
       "105070  0x8477e447846c758f5a675856001ea72298fd9cb5       APE         1.146400   \n",
       "141427  0x28736f43f1e871e6aa8b1148d38d4994275d72c4  FARTCOIN         0.503380   \n",
       "33194   0x75f7eeb85dc639d5e99c78f95393aa9a5f1170d4  FARTCOIN         0.775820   \n",
       "26619   0x4f93fead39b70a1824f981a54d4e55b278e9f760       BTC    105192.000000   \n",
       "\n",
       "        Size Tokens  Size USD  Side     Timestamp IST  Start Position  \\\n",
       "44100   69420.00000     61.03   BUY  06-07-2024 00:49    912187.62980   \n",
       "105070    484.10000    554.97  SELL  21-11-2024 14:22         0.00000   \n",
       "141427   1016.50000    511.69  SELL  05-04-2025 15:25      1016.60000   \n",
       "33194     276.20000    214.28  SELL  13-01-2025 08:19      2909.60000   \n",
       "26619       0.00985   1036.14   BUY  25-01-2025 02:03         1.43808   \n",
       "\n",
       "         Direction  Closed PnL  \\\n",
       "44100          Buy    0.000000   \n",
       "105070  Open Short    0.000000   \n",
       "141427  Close Long    2.276960   \n",
       "33194   Close Long    5.449426   \n",
       "26619    Open Long    0.000000   \n",
       "\n",
       "                                         Transaction Hash     Order ID  \\\n",
       "44100   0xed99d1d37f0b7c8a5c9d040ce286fb01a100faef8076...  28652822332   \n",
       "105070  0xba9a8c70ef46a8cf7b8304175624640201490045be55...  48955113464   \n",
       "141427  0xab0953c50bbcee42b4550420f21a6102012300534d8a...  84096501122   \n",
       "33194   0xe66ebcebd519c3e5b517041b55225b01ed0078f00d01...  62549406956   \n",
       "26619   0x4935d45c3287e221caab041c60c14c02015f00420de3...  66314520674   \n",
       "\n",
       "        Crossed        Fee      Trade ID     Timestamp  \n",
       "44100      True  24.296220  6.360000e+14  1.720000e+12  \n",
       "105070     True   0.194240  7.090000e+14  1.730000e+12  \n",
       "141427    False   0.051168  6.310000e+14  1.740000e+12  \n",
       "33194     False   0.020570  1.410000e+14  1.740000e+12  \n",
       "26619      True   0.259035  6.780000e+14  1.740000e+12  "
      ]
     },
     "execution_count": 9,
     "metadata": {},
     "output_type": "execute_result"
    }
   ],
   "source": [
    "df_historical_data=pd.read_csv('csv_files/historical_data.csv')\n",
    "df_historical_data.sample(5)"
   ]
  },
  {
   "cell_type": "code",
   "execution_count": 10,
   "id": "30b079ed",
   "metadata": {},
   "outputs": [
    {
     "data": {
      "text/plain": [
       "Account             0\n",
       "Coin                0\n",
       "Execution Price     0\n",
       "Size Tokens         0\n",
       "Size USD            0\n",
       "Side                0\n",
       "Timestamp IST       0\n",
       "Start Position      0\n",
       "Direction           0\n",
       "Closed PnL          0\n",
       "Transaction Hash    0\n",
       "Order ID            0\n",
       "Crossed             0\n",
       "Fee                 0\n",
       "Trade ID            0\n",
       "Timestamp           0\n",
       "dtype: int64"
      ]
     },
     "execution_count": 10,
     "metadata": {},
     "output_type": "execute_result"
    }
   ],
   "source": [
    "df_historical_data.isna().sum()"
   ]
  },
  {
   "cell_type": "code",
   "execution_count": 11,
   "id": "290850e3",
   "metadata": {},
   "outputs": [
    {
     "name": "stdout",
     "output_type": "stream",
     "text": [
      "<class 'pandas.core.frame.DataFrame'>\n",
      "RangeIndex: 211224 entries, 0 to 211223\n",
      "Data columns (total 16 columns):\n",
      " #   Column            Non-Null Count   Dtype  \n",
      "---  ------            --------------   -----  \n",
      " 0   Account           211224 non-null  object \n",
      " 1   Coin              211224 non-null  object \n",
      " 2   Execution Price   211224 non-null  float64\n",
      " 3   Size Tokens       211224 non-null  float64\n",
      " 4   Size USD          211224 non-null  float64\n",
      " 5   Side              211224 non-null  object \n",
      " 6   Timestamp IST     211224 non-null  object \n",
      " 7   Start Position    211224 non-null  float64\n",
      " 8   Direction         211224 non-null  object \n",
      " 9   Closed PnL        211224 non-null  float64\n",
      " 10  Transaction Hash  211224 non-null  object \n",
      " 11  Order ID          211224 non-null  int64  \n",
      " 12  Crossed           211224 non-null  bool   \n",
      " 13  Fee               211224 non-null  float64\n",
      " 14  Trade ID          211224 non-null  float64\n",
      " 15  Timestamp         211224 non-null  float64\n",
      "dtypes: bool(1), float64(8), int64(1), object(6)\n",
      "memory usage: 24.4+ MB\n"
     ]
    }
   ],
   "source": [
    "df_historical_data.info()"
   ]
  },
  {
   "cell_type": "code",
   "execution_count": 12,
   "id": "7ba92141",
   "metadata": {},
   "outputs": [],
   "source": [
    "#Making formats right\n",
    "# Convert trader data timestamp to datetime and extract only the date\n",
    "df_historical_data['Timestamp IST'] = pd.to_datetime(df_historical_data['Timestamp IST'],dayfirst=True)\n",
    "\n"
   ]
  },
  {
   "cell_type": "code",
   "execution_count": 13,
   "id": "7141c927",
   "metadata": {},
   "outputs": [],
   "source": [
    "df_historical_data['date'] = df_historical_data['Timestamp IST'].dt.date\n",
    "df_historical_data['date'] = pd.to_datetime(df_historical_data['date'])"
   ]
  },
  {
   "cell_type": "code",
   "execution_count": 14,
   "id": "9d74c596",
   "metadata": {},
   "outputs": [
    {
     "data": {
      "text/html": [
       "<div>\n",
       "<style scoped>\n",
       "    .dataframe tbody tr th:only-of-type {\n",
       "        vertical-align: middle;\n",
       "    }\n",
       "\n",
       "    .dataframe tbody tr th {\n",
       "        vertical-align: top;\n",
       "    }\n",
       "\n",
       "    .dataframe thead th {\n",
       "        text-align: right;\n",
       "    }\n",
       "</style>\n",
       "<table border=\"1\" class=\"dataframe\">\n",
       "  <thead>\n",
       "    <tr style=\"text-align: right;\">\n",
       "      <th></th>\n",
       "      <th>Account</th>\n",
       "      <th>Coin</th>\n",
       "      <th>Execution Price</th>\n",
       "      <th>Size Tokens</th>\n",
       "      <th>Size USD</th>\n",
       "      <th>Side</th>\n",
       "      <th>Timestamp IST</th>\n",
       "      <th>Start Position</th>\n",
       "      <th>Direction</th>\n",
       "      <th>Closed PnL</th>\n",
       "      <th>Transaction Hash</th>\n",
       "      <th>Order ID</th>\n",
       "      <th>Crossed</th>\n",
       "      <th>Fee</th>\n",
       "      <th>Trade ID</th>\n",
       "      <th>Timestamp</th>\n",
       "      <th>date</th>\n",
       "    </tr>\n",
       "  </thead>\n",
       "  <tbody>\n",
       "    <tr>\n",
       "      <th>126882</th>\n",
       "      <td>0x47add9a56df66b524d5e2c1993a43cde53b6ed85</td>\n",
       "      <td>SOL</td>\n",
       "      <td>165.0000</td>\n",
       "      <td>1.9700</td>\n",
       "      <td>325.05</td>\n",
       "      <td>BUY</td>\n",
       "      <td>2025-02-19 10:12:00</td>\n",
       "      <td>6.340000e+00</td>\n",
       "      <td>Open Long</td>\n",
       "      <td>0.000000</td>\n",
       "      <td>0xb703d7f046c4ded704b8041e09ad210201e000a6dfe4...</td>\n",
       "      <td>73300144994</td>\n",
       "      <td>False</td>\n",
       "      <td>0.031204</td>\n",
       "      <td>1.150000e+14</td>\n",
       "      <td>1.740000e+12</td>\n",
       "      <td>2025-02-19</td>\n",
       "    </tr>\n",
       "    <tr>\n",
       "      <th>186700</th>\n",
       "      <td>0xbee1707d6b44d4d52bfe19e41f8a828645437aab</td>\n",
       "      <td>HYPE</td>\n",
       "      <td>13.7470</td>\n",
       "      <td>36.3700</td>\n",
       "      <td>499.98</td>\n",
       "      <td>SELL</td>\n",
       "      <td>2025-03-28 18:18:00</td>\n",
       "      <td>3.246550e+03</td>\n",
       "      <td>Close Long</td>\n",
       "      <td>5.197273</td>\n",
       "      <td>0xcf0c0e2ccd2b471e483404206fca4101d60085bc50b4...</td>\n",
       "      <td>82312517667</td>\n",
       "      <td>True</td>\n",
       "      <td>0.149993</td>\n",
       "      <td>1.030000e+15</td>\n",
       "      <td>1.740000e+12</td>\n",
       "      <td>2025-03-28</td>\n",
       "    </tr>\n",
       "    <tr>\n",
       "      <th>112577</th>\n",
       "      <td>0x8477e447846c758f5a675856001ea72298fd9cb5</td>\n",
       "      <td>kBONK</td>\n",
       "      <td>0.0142</td>\n",
       "      <td>39084.0000</td>\n",
       "      <td>554.99</td>\n",
       "      <td>BUY</td>\n",
       "      <td>2025-04-23 00:52:00</td>\n",
       "      <td>-5.332524e+06</td>\n",
       "      <td>Close Short</td>\n",
       "      <td>-11.803368</td>\n",
       "      <td>0x88613f3b1ca578dff34004220cd36502035400903caf...</td>\n",
       "      <td>88085145852</td>\n",
       "      <td>False</td>\n",
       "      <td>0.055499</td>\n",
       "      <td>1.020000e+15</td>\n",
       "      <td>1.750000e+12</td>\n",
       "      <td>2025-04-23</td>\n",
       "    </tr>\n",
       "    <tr>\n",
       "      <th>176803</th>\n",
       "      <td>0xbee1707d6b44d4d52bfe19e41f8a828645437aab</td>\n",
       "      <td>@107</td>\n",
       "      <td>15.0000</td>\n",
       "      <td>576.1000</td>\n",
       "      <td>8641.50</td>\n",
       "      <td>BUY</td>\n",
       "      <td>2025-03-09 04:45:00</td>\n",
       "      <td>1.784819e+03</td>\n",
       "      <td>Buy</td>\n",
       "      <td>0.000000</td>\n",
       "      <td>0x7959c4991595909bcd4c041f2d06ec01d600e0c4b51f...</td>\n",
       "      <td>77812833260</td>\n",
       "      <td>False</td>\n",
       "      <td>0.028805</td>\n",
       "      <td>1.030000e+15</td>\n",
       "      <td>1.740000e+12</td>\n",
       "      <td>2025-03-09</td>\n",
       "    </tr>\n",
       "    <tr>\n",
       "      <th>22563</th>\n",
       "      <td>0x4f93fead39b70a1824f981a54d4e55b278e9f760</td>\n",
       "      <td>ETH</td>\n",
       "      <td>2973.6000</td>\n",
       "      <td>5.0449</td>\n",
       "      <td>15001.51</td>\n",
       "      <td>BUY</td>\n",
       "      <td>2024-07-05 19:31:00</td>\n",
       "      <td>1.766198e+02</td>\n",
       "      <td>Open Long</td>\n",
       "      <td>0.000000</td>\n",
       "      <td>0xeb45394f905a0db44824040cddf0d6015f0029939564...</td>\n",
       "      <td>28607544798</td>\n",
       "      <td>True</td>\n",
       "      <td>5.250530</td>\n",
       "      <td>4.870000e+14</td>\n",
       "      <td>1.720000e+12</td>\n",
       "      <td>2024-07-05</td>\n",
       "    </tr>\n",
       "  </tbody>\n",
       "</table>\n",
       "</div>"
      ],
      "text/plain": [
       "                                           Account   Coin  Execution Price  \\\n",
       "126882  0x47add9a56df66b524d5e2c1993a43cde53b6ed85    SOL         165.0000   \n",
       "186700  0xbee1707d6b44d4d52bfe19e41f8a828645437aab   HYPE          13.7470   \n",
       "112577  0x8477e447846c758f5a675856001ea72298fd9cb5  kBONK           0.0142   \n",
       "176803  0xbee1707d6b44d4d52bfe19e41f8a828645437aab   @107          15.0000   \n",
       "22563   0x4f93fead39b70a1824f981a54d4e55b278e9f760    ETH        2973.6000   \n",
       "\n",
       "        Size Tokens  Size USD  Side       Timestamp IST  Start Position  \\\n",
       "126882       1.9700    325.05   BUY 2025-02-19 10:12:00    6.340000e+00   \n",
       "186700      36.3700    499.98  SELL 2025-03-28 18:18:00    3.246550e+03   \n",
       "112577   39084.0000    554.99   BUY 2025-04-23 00:52:00   -5.332524e+06   \n",
       "176803     576.1000   8641.50   BUY 2025-03-09 04:45:00    1.784819e+03   \n",
       "22563        5.0449  15001.51   BUY 2024-07-05 19:31:00    1.766198e+02   \n",
       "\n",
       "          Direction  Closed PnL  \\\n",
       "126882    Open Long    0.000000   \n",
       "186700   Close Long    5.197273   \n",
       "112577  Close Short  -11.803368   \n",
       "176803          Buy    0.000000   \n",
       "22563     Open Long    0.000000   \n",
       "\n",
       "                                         Transaction Hash     Order ID  \\\n",
       "126882  0xb703d7f046c4ded704b8041e09ad210201e000a6dfe4...  73300144994   \n",
       "186700  0xcf0c0e2ccd2b471e483404206fca4101d60085bc50b4...  82312517667   \n",
       "112577  0x88613f3b1ca578dff34004220cd36502035400903caf...  88085145852   \n",
       "176803  0x7959c4991595909bcd4c041f2d06ec01d600e0c4b51f...  77812833260   \n",
       "22563   0xeb45394f905a0db44824040cddf0d6015f0029939564...  28607544798   \n",
       "\n",
       "        Crossed       Fee      Trade ID     Timestamp       date  \n",
       "126882    False  0.031204  1.150000e+14  1.740000e+12 2025-02-19  \n",
       "186700     True  0.149993  1.030000e+15  1.740000e+12 2025-03-28  \n",
       "112577    False  0.055499  1.020000e+15  1.750000e+12 2025-04-23  \n",
       "176803    False  0.028805  1.030000e+15  1.740000e+12 2025-03-09  \n",
       "22563      True  5.250530  4.870000e+14  1.720000e+12 2024-07-05  "
      ]
     },
     "execution_count": 14,
     "metadata": {},
     "output_type": "execute_result"
    }
   ],
   "source": [
    "df_historical_data.sample(5)"
   ]
  },
  {
   "cell_type": "code",
   "execution_count": 15,
   "id": "5ea40bcd",
   "metadata": {},
   "outputs": [
    {
     "data": {
      "text/plain": [
       "Account             0\n",
       "Coin                0\n",
       "Execution Price     0\n",
       "Size Tokens         0\n",
       "Size USD            0\n",
       "Side                0\n",
       "Timestamp IST       0\n",
       "Start Position      0\n",
       "Direction           0\n",
       "Closed PnL          0\n",
       "Transaction Hash    0\n",
       "Order ID            0\n",
       "Crossed             0\n",
       "Fee                 0\n",
       "Trade ID            0\n",
       "Timestamp           0\n",
       "date                0\n",
       "dtype: int64"
      ]
     },
     "execution_count": 15,
     "metadata": {},
     "output_type": "execute_result"
    }
   ],
   "source": [
    "df_historical_data.isna().sum()"
   ]
  },
  {
   "cell_type": "code",
   "execution_count": 16,
   "id": "915cb90d",
   "metadata": {},
   "outputs": [
    {
     "data": {
      "text/plain": [
       "(211224, 17)"
      ]
     },
     "execution_count": 16,
     "metadata": {},
     "output_type": "execute_result"
    }
   ],
   "source": [
    "df_historical_data.shape"
   ]
  },
  {
   "cell_type": "code",
   "execution_count": 17,
   "id": "d7383f3f",
   "metadata": {},
   "outputs": [],
   "source": [
    "# Merge datasets based on date\n",
    "new_df = pd.merge(\n",
    "    df_historical_data,\n",
    "    df_fear_greed[['date','classification','value']],  # only useful columns\n",
    "    on='date',\n",
    "    how='left'  # keep all trade records, even if no matching sentiment\n",
    ")"
   ]
  },
  {
   "cell_type": "code",
   "execution_count": 18,
   "id": "3bf87735",
   "metadata": {},
   "outputs": [
    {
     "data": {
      "text/html": [
       "<div>\n",
       "<style scoped>\n",
       "    .dataframe tbody tr th:only-of-type {\n",
       "        vertical-align: middle;\n",
       "    }\n",
       "\n",
       "    .dataframe tbody tr th {\n",
       "        vertical-align: top;\n",
       "    }\n",
       "\n",
       "    .dataframe thead th {\n",
       "        text-align: right;\n",
       "    }\n",
       "</style>\n",
       "<table border=\"1\" class=\"dataframe\">\n",
       "  <thead>\n",
       "    <tr style=\"text-align: right;\">\n",
       "      <th></th>\n",
       "      <th>Account</th>\n",
       "      <th>Coin</th>\n",
       "      <th>Execution Price</th>\n",
       "      <th>Size Tokens</th>\n",
       "      <th>Size USD</th>\n",
       "      <th>Side</th>\n",
       "      <th>Timestamp IST</th>\n",
       "      <th>Start Position</th>\n",
       "      <th>Direction</th>\n",
       "      <th>Closed PnL</th>\n",
       "      <th>Transaction Hash</th>\n",
       "      <th>Order ID</th>\n",
       "      <th>Crossed</th>\n",
       "      <th>Fee</th>\n",
       "      <th>Trade ID</th>\n",
       "      <th>Timestamp</th>\n",
       "      <th>date</th>\n",
       "      <th>classification</th>\n",
       "      <th>value</th>\n",
       "    </tr>\n",
       "  </thead>\n",
       "  <tbody>\n",
       "    <tr>\n",
       "      <th>4276</th>\n",
       "      <td>0x513b8629fe877bb581bf244e326a047b249c4ff1</td>\n",
       "      <td>BTC</td>\n",
       "      <td>83259.00000</td>\n",
       "      <td>0.33437</td>\n",
       "      <td>27839.31</td>\n",
       "      <td>SELL</td>\n",
       "      <td>2025-04-12 04:55:00</td>\n",
       "      <td>-10.10139</td>\n",
       "      <td>Open Short</td>\n",
       "      <td>0.000000</td>\n",
       "      <td>0xe6225a3386100fc7c91904215de194018700ec1752a3...</td>\n",
       "      <td>85920728399</td>\n",
       "      <td>True</td>\n",
       "      <td>8.017721</td>\n",
       "      <td>1.890000e+14</td>\n",
       "      <td>1.740000e+12</td>\n",
       "      <td>2025-04-12</td>\n",
       "      <td>Fear</td>\n",
       "      <td>43.0</td>\n",
       "    </tr>\n",
       "    <tr>\n",
       "      <th>47185</th>\n",
       "      <td>0xb1231a4a2dd02f2276fa3c5e2a2f3436e6bfed23</td>\n",
       "      <td>HYPE</td>\n",
       "      <td>27.33200</td>\n",
       "      <td>163.48000</td>\n",
       "      <td>4468.24</td>\n",
       "      <td>SELL</td>\n",
       "      <td>2025-01-31 04:03:00</td>\n",
       "      <td>-20927.45000</td>\n",
       "      <td>Open Short</td>\n",
       "      <td>0.000000</td>\n",
       "      <td>0x8798c0f3344c6e8daaf6041cd5242e01e600444e8f24...</td>\n",
       "      <td>67848652656</td>\n",
       "      <td>True</td>\n",
       "      <td>1.563882</td>\n",
       "      <td>6.250000e+14</td>\n",
       "      <td>1.740000e+12</td>\n",
       "      <td>2025-01-31</td>\n",
       "      <td>Extreme Greed</td>\n",
       "      <td>76.0</td>\n",
       "    </tr>\n",
       "    <tr>\n",
       "      <th>105266</th>\n",
       "      <td>0x8477e447846c758f5a675856001ea72298fd9cb5</td>\n",
       "      <td>TNSR</td>\n",
       "      <td>0.57913</td>\n",
       "      <td>3583.80000</td>\n",
       "      <td>2075.49</td>\n",
       "      <td>SELL</td>\n",
       "      <td>2024-11-23 16:47:00</td>\n",
       "      <td>-547.00000</td>\n",
       "      <td>Open Short</td>\n",
       "      <td>0.000000</td>\n",
       "      <td>0x853176eb0e4e20360aa9041781faa302010000a35c77...</td>\n",
       "      <td>49513675818</td>\n",
       "      <td>True</td>\n",
       "      <td>0.726420</td>\n",
       "      <td>4.870000e+14</td>\n",
       "      <td>1.730000e+12</td>\n",
       "      <td>2024-11-23</td>\n",
       "      <td>Extreme Greed</td>\n",
       "      <td>93.0</td>\n",
       "    </tr>\n",
       "    <tr>\n",
       "      <th>140454</th>\n",
       "      <td>0x28736f43f1e871e6aa8b1148d38d4994275d72c4</td>\n",
       "      <td>PENDLE</td>\n",
       "      <td>2.39430</td>\n",
       "      <td>41.00000</td>\n",
       "      <td>98.17</td>\n",
       "      <td>BUY</td>\n",
       "      <td>2025-03-07 09:16:00</td>\n",
       "      <td>4363.00000</td>\n",
       "      <td>Open Long</td>\n",
       "      <td>0.000000</td>\n",
       "      <td>0xd13776e1b8e07519c225041f0f358502020400f84fcb...</td>\n",
       "      <td>77844596897</td>\n",
       "      <td>True</td>\n",
       "      <td>0.034358</td>\n",
       "      <td>2.310000e+14</td>\n",
       "      <td>1.740000e+12</td>\n",
       "      <td>2025-03-07</td>\n",
       "      <td>Fear</td>\n",
       "      <td>34.0</td>\n",
       "    </tr>\n",
       "    <tr>\n",
       "      <th>161971</th>\n",
       "      <td>0xbee1707d6b44d4d52bfe19e41f8a828645437aab</td>\n",
       "      <td>@107</td>\n",
       "      <td>24.75000</td>\n",
       "      <td>202.02000</td>\n",
       "      <td>4999.99</td>\n",
       "      <td>SELL</td>\n",
       "      <td>2024-12-20 18:05:00</td>\n",
       "      <td>40523.98622</td>\n",
       "      <td>Sell</td>\n",
       "      <td>-159.753595</td>\n",
       "      <td>0x8e9eb8aa67009e01f7fe0419b094fa0202a700d71dd3...</td>\n",
       "      <td>56953862975</td>\n",
       "      <td>False</td>\n",
       "      <td>0.249999</td>\n",
       "      <td>1.100000e+14</td>\n",
       "      <td>1.730000e+12</td>\n",
       "      <td>2024-12-20</td>\n",
       "      <td>Greed</td>\n",
       "      <td>74.0</td>\n",
       "    </tr>\n",
       "  </tbody>\n",
       "</table>\n",
       "</div>"
      ],
      "text/plain": [
       "                                           Account    Coin  Execution Price  \\\n",
       "4276    0x513b8629fe877bb581bf244e326a047b249c4ff1     BTC      83259.00000   \n",
       "47185   0xb1231a4a2dd02f2276fa3c5e2a2f3436e6bfed23    HYPE         27.33200   \n",
       "105266  0x8477e447846c758f5a675856001ea72298fd9cb5    TNSR          0.57913   \n",
       "140454  0x28736f43f1e871e6aa8b1148d38d4994275d72c4  PENDLE          2.39430   \n",
       "161971  0xbee1707d6b44d4d52bfe19e41f8a828645437aab    @107         24.75000   \n",
       "\n",
       "        Size Tokens  Size USD  Side       Timestamp IST  Start Position  \\\n",
       "4276        0.33437  27839.31  SELL 2025-04-12 04:55:00       -10.10139   \n",
       "47185     163.48000   4468.24  SELL 2025-01-31 04:03:00    -20927.45000   \n",
       "105266   3583.80000   2075.49  SELL 2024-11-23 16:47:00      -547.00000   \n",
       "140454     41.00000     98.17   BUY 2025-03-07 09:16:00      4363.00000   \n",
       "161971    202.02000   4999.99  SELL 2024-12-20 18:05:00     40523.98622   \n",
       "\n",
       "         Direction  Closed PnL  \\\n",
       "4276    Open Short    0.000000   \n",
       "47185   Open Short    0.000000   \n",
       "105266  Open Short    0.000000   \n",
       "140454   Open Long    0.000000   \n",
       "161971        Sell -159.753595   \n",
       "\n",
       "                                         Transaction Hash     Order ID  \\\n",
       "4276    0xe6225a3386100fc7c91904215de194018700ec1752a3...  85920728399   \n",
       "47185   0x8798c0f3344c6e8daaf6041cd5242e01e600444e8f24...  67848652656   \n",
       "105266  0x853176eb0e4e20360aa9041781faa302010000a35c77...  49513675818   \n",
       "140454  0xd13776e1b8e07519c225041f0f358502020400f84fcb...  77844596897   \n",
       "161971  0x8e9eb8aa67009e01f7fe0419b094fa0202a700d71dd3...  56953862975   \n",
       "\n",
       "        Crossed       Fee      Trade ID     Timestamp       date  \\\n",
       "4276       True  8.017721  1.890000e+14  1.740000e+12 2025-04-12   \n",
       "47185      True  1.563882  6.250000e+14  1.740000e+12 2025-01-31   \n",
       "105266     True  0.726420  4.870000e+14  1.730000e+12 2024-11-23   \n",
       "140454     True  0.034358  2.310000e+14  1.740000e+12 2025-03-07   \n",
       "161971    False  0.249999  1.100000e+14  1.730000e+12 2024-12-20   \n",
       "\n",
       "       classification  value  \n",
       "4276             Fear   43.0  \n",
       "47185   Extreme Greed   76.0  \n",
       "105266  Extreme Greed   93.0  \n",
       "140454           Fear   34.0  \n",
       "161971          Greed   74.0  "
      ]
     },
     "execution_count": 18,
     "metadata": {},
     "output_type": "execute_result"
    }
   ],
   "source": [
    "new_df.sample(5)"
   ]
  },
  {
   "cell_type": "code",
   "execution_count": 19,
   "id": "9cd0edec",
   "metadata": {},
   "outputs": [
    {
     "data": {
      "text/plain": [
       "(211224, 19)"
      ]
     },
     "execution_count": 19,
     "metadata": {},
     "output_type": "execute_result"
    }
   ],
   "source": [
    "new_df.shape"
   ]
  },
  {
   "cell_type": "code",
   "execution_count": 20,
   "id": "d1ce90de",
   "metadata": {},
   "outputs": [
    {
     "data": {
      "text/html": [
       "<div>\n",
       "<style scoped>\n",
       "    .dataframe tbody tr th:only-of-type {\n",
       "        vertical-align: middle;\n",
       "    }\n",
       "\n",
       "    .dataframe tbody tr th {\n",
       "        vertical-align: top;\n",
       "    }\n",
       "\n",
       "    .dataframe thead th {\n",
       "        text-align: right;\n",
       "    }\n",
       "</style>\n",
       "<table border=\"1\" class=\"dataframe\">\n",
       "  <thead>\n",
       "    <tr style=\"text-align: right;\">\n",
       "      <th></th>\n",
       "      <th>Account</th>\n",
       "      <th>Coin</th>\n",
       "      <th>Execution Price</th>\n",
       "      <th>Size Tokens</th>\n",
       "      <th>Size USD</th>\n",
       "      <th>Side</th>\n",
       "      <th>Timestamp IST</th>\n",
       "      <th>Start Position</th>\n",
       "      <th>Direction</th>\n",
       "      <th>Closed PnL</th>\n",
       "      <th>Transaction Hash</th>\n",
       "      <th>Order ID</th>\n",
       "      <th>Crossed</th>\n",
       "      <th>Fee</th>\n",
       "      <th>Trade ID</th>\n",
       "      <th>Timestamp</th>\n",
       "      <th>date</th>\n",
       "      <th>classification</th>\n",
       "      <th>value</th>\n",
       "    </tr>\n",
       "  </thead>\n",
       "  <tbody>\n",
       "    <tr>\n",
       "      <th>18237</th>\n",
       "      <td>0x430f09841d65beb3f27765503d0f850b8bce7713</td>\n",
       "      <td>ZRO</td>\n",
       "      <td>5.240</td>\n",
       "      <td>23.40</td>\n",
       "      <td>122.62</td>\n",
       "      <td>SELL</td>\n",
       "      <td>2024-07-23 03:12:00</td>\n",
       "      <td>64555.000000</td>\n",
       "      <td>Close Long</td>\n",
       "      <td>43.985916</td>\n",
       "      <td>0x36ac76b4432311247ff6040df0843a01350006461db0...</td>\n",
       "      <td>30774951211</td>\n",
       "      <td>False</td>\n",
       "      <td>0.012261</td>\n",
       "      <td>8.120000e+14</td>\n",
       "      <td>1.720000e+12</td>\n",
       "      <td>2024-07-23</td>\n",
       "      <td>Greed</td>\n",
       "      <td>71.0</td>\n",
       "    </tr>\n",
       "    <tr>\n",
       "      <th>56058</th>\n",
       "      <td>0x23e7a7f8d14b550961925fbfdaa92f5d195ba5bd</td>\n",
       "      <td>@107</td>\n",
       "      <td>19.369</td>\n",
       "      <td>3.92</td>\n",
       "      <td>75.93</td>\n",
       "      <td>BUY</td>\n",
       "      <td>2025-03-03 13:03:00</td>\n",
       "      <td>3114.598695</td>\n",
       "      <td>Buy</td>\n",
       "      <td>0.000000</td>\n",
       "      <td>0xba2811c61eeab495a11c041ed065d30201ac00f0d32c...</td>\n",
       "      <td>76569769936</td>\n",
       "      <td>True</td>\n",
       "      <td>0.001372</td>\n",
       "      <td>5.360000e+14</td>\n",
       "      <td>1.740000e+12</td>\n",
       "      <td>2025-03-03</td>\n",
       "      <td>Fear</td>\n",
       "      <td>33.0</td>\n",
       "    </tr>\n",
       "  </tbody>\n",
       "</table>\n",
       "</div>"
      ],
      "text/plain": [
       "                                          Account  Coin  Execution Price  \\\n",
       "18237  0x430f09841d65beb3f27765503d0f850b8bce7713   ZRO            5.240   \n",
       "56058  0x23e7a7f8d14b550961925fbfdaa92f5d195ba5bd  @107           19.369   \n",
       "\n",
       "       Size Tokens  Size USD  Side       Timestamp IST  Start Position  \\\n",
       "18237        23.40    122.62  SELL 2024-07-23 03:12:00    64555.000000   \n",
       "56058         3.92     75.93   BUY 2025-03-03 13:03:00     3114.598695   \n",
       "\n",
       "        Direction  Closed PnL  \\\n",
       "18237  Close Long   43.985916   \n",
       "56058         Buy    0.000000   \n",
       "\n",
       "                                        Transaction Hash     Order ID  \\\n",
       "18237  0x36ac76b4432311247ff6040df0843a01350006461db0...  30774951211   \n",
       "56058  0xba2811c61eeab495a11c041ed065d30201ac00f0d32c...  76569769936   \n",
       "\n",
       "       Crossed       Fee      Trade ID     Timestamp       date  \\\n",
       "18237    False  0.012261  8.120000e+14  1.720000e+12 2024-07-23   \n",
       "56058     True  0.001372  5.360000e+14  1.740000e+12 2025-03-03   \n",
       "\n",
       "      classification  value  \n",
       "18237          Greed   71.0  \n",
       "56058           Fear   33.0  "
      ]
     },
     "execution_count": 20,
     "metadata": {},
     "output_type": "execute_result"
    }
   ],
   "source": [
    "copy_df=new_df.copy()\n",
    "copy_df.shape\n",
    "copy_df.sample(2)"
   ]
  },
  {
   "cell_type": "code",
   "execution_count": 21,
   "id": "6c202c7f",
   "metadata": {},
   "outputs": [
    {
     "data": {
      "text/plain": [
       "Index(['Account', 'Coin', 'Execution Price', 'Size Tokens', 'Size USD', 'Side',\n",
       "       'Timestamp IST', 'Start Position', 'Direction', 'Closed PnL',\n",
       "       'Transaction Hash', 'Order ID', 'Crossed', 'Fee', 'Trade ID',\n",
       "       'Timestamp', 'date', 'classification', 'value'],\n",
       "      dtype='object')"
      ]
     },
     "execution_count": 21,
     "metadata": {},
     "output_type": "execute_result"
    }
   ],
   "source": [
    "copy_df.columns"
   ]
  },
  {
   "cell_type": "code",
   "execution_count": 22,
   "id": "2efbc882",
   "metadata": {},
   "outputs": [],
   "source": [
    "new_df.drop(columns=['Account','Timestamp','Order ID','Transaction Hash'],inplace=True)"
   ]
  },
  {
   "cell_type": "code",
   "execution_count": 23,
   "id": "8c29fcb5",
   "metadata": {},
   "outputs": [
    {
     "data": {
      "text/html": [
       "<div>\n",
       "<style scoped>\n",
       "    .dataframe tbody tr th:only-of-type {\n",
       "        vertical-align: middle;\n",
       "    }\n",
       "\n",
       "    .dataframe tbody tr th {\n",
       "        vertical-align: top;\n",
       "    }\n",
       "\n",
       "    .dataframe thead th {\n",
       "        text-align: right;\n",
       "    }\n",
       "</style>\n",
       "<table border=\"1\" class=\"dataframe\">\n",
       "  <thead>\n",
       "    <tr style=\"text-align: right;\">\n",
       "      <th></th>\n",
       "      <th>Coin</th>\n",
       "      <th>Execution Price</th>\n",
       "      <th>Size Tokens</th>\n",
       "      <th>Size USD</th>\n",
       "      <th>Side</th>\n",
       "      <th>Timestamp IST</th>\n",
       "      <th>Start Position</th>\n",
       "      <th>Direction</th>\n",
       "      <th>Closed PnL</th>\n",
       "      <th>Crossed</th>\n",
       "      <th>Fee</th>\n",
       "      <th>Trade ID</th>\n",
       "      <th>date</th>\n",
       "      <th>classification</th>\n",
       "      <th>value</th>\n",
       "    </tr>\n",
       "  </thead>\n",
       "  <tbody>\n",
       "    <tr>\n",
       "      <th>179827</th>\n",
       "      <td>HYPE</td>\n",
       "      <td>12.30000</td>\n",
       "      <td>134.910</td>\n",
       "      <td>1659.39</td>\n",
       "      <td>BUY</td>\n",
       "      <td>2025-03-13 16:58:00</td>\n",
       "      <td>2664.98000</td>\n",
       "      <td>Open Long</td>\n",
       "      <td>0.000000</td>\n",
       "      <td>False</td>\n",
       "      <td>0.082969</td>\n",
       "      <td>8.430000e+14</td>\n",
       "      <td>2025-03-13</td>\n",
       "      <td>Neutral</td>\n",
       "      <td>45.0</td>\n",
       "    </tr>\n",
       "    <tr>\n",
       "      <th>143648</th>\n",
       "      <td>MELANIA</td>\n",
       "      <td>0.54567</td>\n",
       "      <td>917.100</td>\n",
       "      <td>500.43</td>\n",
       "      <td>BUY</td>\n",
       "      <td>2025-04-07 00:19:00</td>\n",
       "      <td>-498010.00000</td>\n",
       "      <td>Close Short</td>\n",
       "      <td>91.013004</td>\n",
       "      <td>False</td>\n",
       "      <td>0.050043</td>\n",
       "      <td>6.550000e+14</td>\n",
       "      <td>2025-04-07</td>\n",
       "      <td>Extreme Fear</td>\n",
       "      <td>23.0</td>\n",
       "    </tr>\n",
       "    <tr>\n",
       "      <th>48445</th>\n",
       "      <td>HYPE</td>\n",
       "      <td>26.83000</td>\n",
       "      <td>290.580</td>\n",
       "      <td>7796.26</td>\n",
       "      <td>SELL</td>\n",
       "      <td>2025-02-05 19:45:00</td>\n",
       "      <td>-16981.82000</td>\n",
       "      <td>Open Short</td>\n",
       "      <td>0.000000</td>\n",
       "      <td>False</td>\n",
       "      <td>0.779626</td>\n",
       "      <td>9.680000e+13</td>\n",
       "      <td>2025-02-05</td>\n",
       "      <td>Neutral</td>\n",
       "      <td>54.0</td>\n",
       "    </tr>\n",
       "    <tr>\n",
       "      <th>91723</th>\n",
       "      <td>BTC</td>\n",
       "      <td>97793.00000</td>\n",
       "      <td>0.005</td>\n",
       "      <td>488.97</td>\n",
       "      <td>BUY</td>\n",
       "      <td>2025-02-07 23:51:00</td>\n",
       "      <td>0.06485</td>\n",
       "      <td>Open Long</td>\n",
       "      <td>0.000000</td>\n",
       "      <td>False</td>\n",
       "      <td>0.048896</td>\n",
       "      <td>6.010000e+14</td>\n",
       "      <td>2025-02-07</td>\n",
       "      <td>Fear</td>\n",
       "      <td>44.0</td>\n",
       "    </tr>\n",
       "    <tr>\n",
       "      <th>170495</th>\n",
       "      <td>HYPE</td>\n",
       "      <td>25.11500</td>\n",
       "      <td>9.130</td>\n",
       "      <td>229.30</td>\n",
       "      <td>SELL</td>\n",
       "      <td>2025-02-21 12:36:00</td>\n",
       "      <td>-5239.04000</td>\n",
       "      <td>Open Short</td>\n",
       "      <td>0.000000</td>\n",
       "      <td>True</td>\n",
       "      <td>0.080254</td>\n",
       "      <td>6.700000e+14</td>\n",
       "      <td>2025-02-21</td>\n",
       "      <td>Greed</td>\n",
       "      <td>55.0</td>\n",
       "    </tr>\n",
       "  </tbody>\n",
       "</table>\n",
       "</div>"
      ],
      "text/plain": [
       "           Coin  Execution Price  Size Tokens  Size USD  Side  \\\n",
       "179827     HYPE         12.30000      134.910   1659.39   BUY   \n",
       "143648  MELANIA          0.54567      917.100    500.43   BUY   \n",
       "48445      HYPE         26.83000      290.580   7796.26  SELL   \n",
       "91723       BTC      97793.00000        0.005    488.97   BUY   \n",
       "170495     HYPE         25.11500        9.130    229.30  SELL   \n",
       "\n",
       "             Timestamp IST  Start Position    Direction  Closed PnL  Crossed  \\\n",
       "179827 2025-03-13 16:58:00      2664.98000    Open Long    0.000000    False   \n",
       "143648 2025-04-07 00:19:00   -498010.00000  Close Short   91.013004    False   \n",
       "48445  2025-02-05 19:45:00    -16981.82000   Open Short    0.000000    False   \n",
       "91723  2025-02-07 23:51:00         0.06485    Open Long    0.000000    False   \n",
       "170495 2025-02-21 12:36:00     -5239.04000   Open Short    0.000000     True   \n",
       "\n",
       "             Fee      Trade ID       date classification  value  \n",
       "179827  0.082969  8.430000e+14 2025-03-13        Neutral   45.0  \n",
       "143648  0.050043  6.550000e+14 2025-04-07   Extreme Fear   23.0  \n",
       "48445   0.779626  9.680000e+13 2025-02-05        Neutral   54.0  \n",
       "91723   0.048896  6.010000e+14 2025-02-07           Fear   44.0  \n",
       "170495  0.080254  6.700000e+14 2025-02-21          Greed   55.0  "
      ]
     },
     "execution_count": 23,
     "metadata": {},
     "output_type": "execute_result"
    }
   ],
   "source": [
    "new_df.sample(5)"
   ]
  },
  {
   "cell_type": "code",
   "execution_count": null,
   "id": "11530acb",
   "metadata": {},
   "outputs": [],
   "source": []
  },
  {
   "cell_type": "markdown",
   "id": "512e8d61",
   "metadata": {},
   "source": [
    "# Descriptive Analysis"
   ]
  },
  {
   "cell_type": "code",
   "execution_count": 24,
   "id": "662ea9f5",
   "metadata": {},
   "outputs": [
    {
     "name": "stdout",
     "output_type": "stream",
     "text": [
      "Average ClosedPnL: 48.74900079269401\n"
     ]
    }
   ],
   "source": [
    "# Avg ClosedPnL overall\n",
    "print(\"Average ClosedPnL:\", new_df['Closed PnL'].mean())"
   ]
  },
  {
   "cell_type": "code",
   "execution_count": 25,
   "id": "5fc2a25a",
   "metadata": {},
   "outputs": [
    {
     "name": "stdout",
     "output_type": "stream",
     "text": [
      "                  count       mean          std           min  25%  50%  \\\n",
      "classification                                                            \n",
      "Extreme Fear    21400.0  34.537862  1136.056091  -31036.69194  0.0  0.0   \n",
      "Extreme Greed   39992.0  67.892861   766.828294  -10259.46800  0.0  0.0   \n",
      "Fear            61837.0  54.290400   935.355438  -35681.74723  0.0  0.0   \n",
      "Greed           50303.0  42.743559  1116.028390 -117990.10410  0.0  0.0   \n",
      "Neutral         37686.0  34.307718   517.122220  -24500.00000  0.0  0.0   \n",
      "\n",
      "                      75%           max  \n",
      "classification                           \n",
      "Extreme Fear     5.635032  115287.00000  \n",
      "Extreme Greed   10.028709   44223.45187  \n",
      "Fear             5.590856  135329.09010  \n",
      "Greed            4.944105   74530.52371  \n",
      "Neutral          3.995795   48504.09555  \n"
     ]
    }
   ],
   "source": [
    "# PnL grouped by sentiment class (Fear/Greed)\n",
    "sentiment_pnl = new_df.groupby('classification')['Closed PnL'].describe()\n",
    "print(sentiment_pnl)"
   ]
  },
  {
   "cell_type": "code",
   "execution_count": 26,
   "id": "7d6b9cc6",
   "metadata": {},
   "outputs": [
    {
     "name": "stdout",
     "output_type": "stream",
     "text": [
      "Profitability rate:\n",
      " classification\n",
      "Extreme Fear     0.370607\n",
      "Extreme Greed    0.464943\n",
      "Fear             0.420768\n",
      "Greed            0.384828\n",
      "Neutral          0.396991\n",
      "Name: Closed PnL, dtype: float64\n"
     ]
    }
   ],
   "source": [
    "# Profitability rate (trades with positive PnL)\n",
    "profit_rate = new_df.groupby('classification')['Closed PnL'].apply(lambda x: (x>0).mean())\n",
    "print(\"Profitability rate:\\n\", profit_rate)"
   ]
  },
  {
   "cell_type": "markdown",
   "id": "7537995b",
   "metadata": {},
   "source": [
    "# Correlation Analysis"
   ]
  },
  {
   "cell_type": "code",
   "execution_count": 27,
   "id": "b8391831",
   "metadata": {},
   "outputs": [
    {
     "name": "stdout",
     "output_type": "stream",
     "text": [
      "Pearson correlation:\n",
      "             Closed PnL     value\n",
      "Closed PnL    1.000000  0.008121\n",
      "value         0.008121  1.000000\n"
     ]
    }
   ],
   "source": [
    "# Correlation between PnL and sentiment value\n",
    "corr = new_df[['Closed PnL','value']].corr(method='pearson')\n",
    "print(\"Pearson correlation:\\n\", corr)"
   ]
  },
  {
   "cell_type": "code",
   "execution_count": 28,
   "id": "7d15bef4",
   "metadata": {},
   "outputs": [
    {
     "name": "stdout",
     "output_type": "stream",
     "text": [
      "Correlation per trader (sample):\n",
      " Account\n",
      "0x083384f897ee0f19899168e3b1bec365f52a9012   -0.062138\n",
      "0x23e7a7f8d14b550961925fbfdaa92f5d195ba5bd    0.100316\n",
      "0x271b280974205ca63b716753467d5a371de622ab   -0.116416\n",
      "0x28736f43f1e871e6aa8b1148d38d4994275d72c4    0.070310\n",
      "0x2c229d22b100a7beb69122eed721cee9b24011dd    0.035768\n",
      "dtype: float64\n"
     ]
    },
    {
     "name": "stderr",
     "output_type": "stream",
     "text": [
      "C:\\Users\\kks96\\AppData\\Local\\Temp\\ipykernel_36616\\1026249452.py:2: DeprecationWarning: DataFrameGroupBy.apply operated on the grouping columns. This behavior is deprecated, and in a future version of pandas the grouping columns will be excluded from the operation. Either pass `include_groups=False` to exclude the groupings or explicitly select the grouping columns after groupby to silence this warning.\n",
      "  trader_corr = copy_df.groupby('Account').apply(lambda g: g[['Closed PnL','value']].corr().iloc[0,1])\n"
     ]
    }
   ],
   "source": [
    "# By trader (only if needed, can filter for active traders)\n",
    "trader_corr = copy_df.groupby('Account').apply(lambda g: g[['Closed PnL','value']].corr().iloc[0,1])\n",
    "print(\"Correlation per trader (sample):\\n\", trader_corr.head())\n"
   ]
  },
  {
   "cell_type": "markdown",
   "id": "d4642751",
   "metadata": {},
   "source": [
    "# Visualization"
   ]
  },
  {
   "cell_type": "code",
   "execution_count": 41,
   "id": "22124cba",
   "metadata": {},
   "outputs": [
    {
     "data": {
      "image/png": "[encoded data removed]",
      "text/plain": [
       "<Figure size 700x500 with 1 Axes>"
      ]
     },
     "metadata": {},
     "output_type": "display_data"
    }
   ],
   "source": [
    "# Scatter with regression\n",
    "plt.figure(figsize=(7,5))\n",
    "sns.regplot(x='value', y='Closed PnL', data=new_df, scatter_kws={'alpha':0.3}, line_kws={'color':'red'})\n",
    "plt.title(\"Closed PnL vs Sentiment Value\")\n",
    "plt.xlabel(\"Sentiment Value (0=Fear, 100=Extreme Greed)\")\n",
    "plt.ylabel(\"ClosedPnL\")\n",
    "plt.savefig(\"outputs/Scatter_with_regression.png\",dpi=300, bbox_inches=\"tight\")\n",
    "plt.show()\n"
   ]
  },
  {
   "cell_type": "code",
   "execution_count": 42,
   "id": "2d1dcba8",
   "metadata": {},
   "outputs": [
    {
     "data": {
      "image/png": "[encoded data removed]",
      "text/plain": [
       "<Figure size 700x500 with 1 Axes>"
      ]
     },
     "metadata": {},
     "output_type": "display_data"
    }
   ],
   "source": [
    "# Boxplot PnL under Fear vs Greed\n",
    "plt.figure(figsize=(7,5))\n",
    "sns.boxplot(x='classification', y='Closed PnL', data=new_df)\n",
    "plt.title(\"PnL Distribution under Fear vs Greed\")\n",
    "plt.savefig(\"outputs/Boxplot.png\",dpi=300, bbox_inches=\"tight\")\n",
    "plt.show()\n"
   ]
  },
  {
   "cell_type": "code",
   "execution_count": 43,
   "id": "95c656cf",
   "metadata": {},
   "outputs": [
    {
     "data": {
      "image/png": "[encoded data removed]",
      "text/plain": [
       "<Figure size 640x480 with 2 Axes>"
      ]
     },
     "metadata": {},
     "output_type": "display_data"
    }
   ],
   "source": [
    "# Heatmap of correlation\n",
    "corr_matrix = new_df[['Closed PnL','value']].corr()\n",
    "sns.heatmap(corr_matrix, annot=True, cmap='coolwarm', center=0)\n",
    "plt.title(\"Correlation Heatmap\")\n",
    "plt.savefig(\"outputs/heatmap.png\",dpi=300, bbox_inches=\"tight\")\n",
    "plt.show()\n"
   ]
  },
  {
   "cell_type": "code",
   "execution_count": 45,
   "id": "e889f1ba",
   "metadata": {},
   "outputs": [
    {
     "data": {
      "image/png": "[encoded data removed]",
      "text/plain": [
       "<Figure size 1000x500 with 2 Axes>"
      ]
     },
     "metadata": {},
     "output_type": "display_data"
    }
   ],
   "source": [
    "fig, ax1 = plt.subplots(figsize=(10,5))\n",
    "\n",
    "ax2 = ax1.twinx()  # second y-axis\n",
    "\n",
    "sns.lineplot(x='date', y='Closed PnL', data=new_df, label='Closed PnL', ax=ax1, color='blue')\n",
    "sns.lineplot(x='date', y='value', data=new_df, label='Sentiment Index', ax=ax2, color='orange')\n",
    "\n",
    "ax1.set_ylabel(\"Closed PnL\")\n",
    "ax2.set_ylabel(\"Sentiment Index\")\n",
    "ax1.set_title(\"Daily Avg Closed PnL vs Sentiment Index\")\n",
    "\n",
    "# Handle legends properly\n",
    "lines1, labels1 = ax1.get_legend_handles_labels()\n",
    "lines2, labels2 = ax2.get_legend_handles_labels()\n",
    "ax1.legend(lines1 + lines2, labels1 + labels2, loc=\"upper left\")\n",
    "\n",
    "plt.savefig(\"Outputs/Time_series.png\",dpi=300, bbox_inches=\"tight\")\n",
    "plt.show()\n"
   ]
  },
  {
   "cell_type": "markdown",
   "id": "5ef59855",
   "metadata": {},
   "source": [
    "# Trader Clustering with KMeans"
   ]
  },
  {
   "cell_type": "code",
   "execution_count": 46,
   "id": "7bccb9d3",
   "metadata": {},
   "outputs": [],
   "source": [
    "# Avg ClosedPnL per trader in Fear vs Greed\n",
    "trader_features = copy_df.groupby(['Account','classification'])['Closed PnL'].mean().unstack().fillna(0)\n",
    "\n",
    "# Ensure we only take numeric columns\n",
    "X = trader_features[['Fear','Greed']].values"
   ]
  },
  {
   "cell_type": "code",
   "execution_count": 47,
   "id": "62a73755",
   "metadata": {},
   "outputs": [],
   "source": [
    "from sklearn.cluster import KMeans\n",
    "kmeans = KMeans(n_clusters=4, random_state=42, n_init=10)\n",
    "trader_features['Cluster'] = kmeans.fit_predict(X)"
   ]
  },
  {
   "cell_type": "code",
   "execution_count": 48,
   "id": "90fb598d",
   "metadata": {},
   "outputs": [
    {
     "data": {
      "image/png": "[encoded data removed]",
      "text/plain": [
       "<Figure size 700x600 with 1 Axes>"
      ]
     },
     "metadata": {},
     "output_type": "display_data"
    }
   ],
   "source": [
    "plt.figure(figsize=(7,6))\n",
    "sns.scatterplot(\n",
    "    x=trader_features['Fear'], \n",
    "    y=trader_features['Greed'], \n",
    "    hue=trader_features['Cluster'], \n",
    "    palette='Set2', s=70\n",
    ")\n",
    "plt.axhline(0, color='black', linestyle='--')\n",
    "plt.axvline(0, color='black', linestyle='--')\n",
    "plt.title(\"Trader Clusters based on Avg PnL in Fear vs Greed\")\n",
    "plt.xlabel(\"Avg PnL in Fear\")\n",
    "plt.ylabel(\"Avg PnL in Greed\")\n",
    "plt.legend(title=\"Cluster\")\n",
    "plt.savefig(\"Outputs/cluster_scatterplot.png\",dpi=300, bbox_inches=\"tight\")\n",
    "plt.show()\n"
   ]
  },
  {
   "cell_type": "code",
   "execution_count": 38,
   "id": "53df7a84",
   "metadata": {},
   "outputs": [
    {
     "name": "stdout",
     "output_type": "stream",
     "text": [
      "Cluster Summary:\n",
      " classification        Fear       Greed\n",
      "Cluster                               \n",
      "0                50.224847   12.725769\n",
      "1                31.870370  194.707817\n",
      "2               821.506757  329.889881\n",
      "3              -283.599907  586.947974\n"
     ]
    }
   ],
   "source": [
    "cluster_summary = trader_features.groupby('Cluster')[['Fear','Greed']].mean()\n",
    "print(\"Cluster Summary:\\n\", cluster_summary)"
   ]
  },
  {
   "cell_type": "markdown",
   "id": "4337ec46",
   "metadata": {},
   "source": [
    "# Above ananlysis is summarized in a report\n"
   ]
  },
  {
   "cell_type": "markdown",
   "id": "4f69b01c",
   "metadata": {},
   "source": []
  }
 ],
 "metadata": {
  "kernelspec": {
   "display_name": "Python 3",
   "language": "python",
   "name": "python3"
  },
  "language_info": {
   "codemirror_mode": {
    "name": "ipython",
    "version": 3
   },
   "file_extension": ".py",
   "mimetype": "text/x-python",
   "name": "python",
   "nbconvert_exporter": "python",
   "pygments_lexer": "ipython3",
   "version": "3.12.5"
  }
 },
 "nbformat": 4,
 "nbformat_minor": 5
}
